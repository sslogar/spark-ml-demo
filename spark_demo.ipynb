{
  "nbformat": 4,
  "nbformat_minor": 0,
  "metadata": {
    "colab": {
      "name": "Big Data Assignment 2 Spark ML",
      "provenance": [],
      "collapsed_sections": []
    },
    "kernelspec": {
      "name": "python3",
      "display_name": "Python 3"
    }
  },
  "cells": [
    {
      "cell_type": "markdown",
      "metadata": {
        "id": "v52_mKtQ7Twa",
        "colab_type": "text"
      },
      "source": [
        "# Install Dependencies and Download Data\n"
      ]
    },
    {
      "cell_type": "code",
      "metadata": {
        "id": "Gly0eurIxrHz",
        "colab_type": "code",
        "colab": {}
      },
      "source": [
        "!apt-get install openjdk-8-jdk-headless -qq > /dev/null\n",
        "!rm spark-2.4.5-bin-hadoop2.7.tgz\n",
        "!wget --no-cookies --no-check-certificate https://downloads.apache.org/spark/spark-2.4.5/spark-2.4.5-bin-hadoop2.7.tgz\n",
        "!tar zxvf spark-2.4.5-bin-hadoop2.7.tgz\n",
        "!pip install -q findspark\n",
        "!pip install pyspark"
      ],
      "execution_count": 0,
      "outputs": []
    },
    {
      "cell_type": "code",
      "metadata": {
        "id": "JdWbzyXrxxj8",
        "colab_type": "code",
        "colab": {}
      },
      "source": [
        "!wget https://raw.githubusercontent.com/zaratsian/Datasets/master/banking_attrition.csv"
      ],
      "execution_count": 0,
      "outputs": []
    },
    {
      "cell_type": "code",
      "metadata": {
        "id": "TRwzlmNsyNSR",
        "colab_type": "code",
        "colab": {}
      },
      "source": [
        "import os\n",
        "os.environ[\"JAVA_HOME\"]  = \"/usr/lib/jvm/java-8-openjdk-amd64\"\n",
        "os.environ[\"SPARK_HOME\"] = \"/content/spark-2.4.5-bin-hadoop2.7\"\n",
        "\n",
        "import datetime, time\n",
        "import re, random, sys\n",
        "\n",
        "from pyspark import SparkContext\n",
        "from pyspark.sql import SparkSession\n",
        "from pyspark.sql.types import StructType, StructField, ArrayType, IntegerType, StringType, FloatType, LongType, DateType\n",
        "from pyspark.sql.functions import struct, array, lit, monotonically_increasing_id, col, expr, when, concat, udf, split, size, lag, count, isnull\n",
        "from pyspark.sql import Window\n",
        "from pyspark.ml.linalg import Vectors\n",
        "from pyspark.ml.classification import RandomForestClassifier, MultilayerPerceptronClassifier\n",
        "from pyspark.ml.feature import VectorIndexer, VectorAssembler, StringIndexer, IndexToString, OneHotEncoderEstimator\n",
        "from pyspark.ml import Pipeline, PipelineModel\n",
        "from pyspark.ml.evaluation import BinaryClassificationEvaluator\n",
        "from functools import reduce\n"
      ],
      "execution_count": 0,
      "outputs": []
    },
    {
      "cell_type": "code",
      "metadata": {
        "id": "z4t3wcaKzgvn",
        "colab_type": "code",
        "colab": {}
      },
      "source": [
        "spark = SparkSession.builder.appName(\"Spark ML Assignment\").master(\"local[*]\").getOrCreate()"
      ],
      "execution_count": 0,
      "outputs": []
    },
    {
      "cell_type": "markdown",
      "metadata": {
        "id": "rIeaioCX6WpX",
        "colab_type": "text"
      },
      "source": [
        "# Load CSV into Spark Dataframe "
      ]
    },
    {
      "cell_type": "code",
      "metadata": {
        "id": "1PtpYs8Rzk-U",
        "colab_type": "code",
        "colab": {}
      },
      "source": [
        "data = spark.read.load('banking_attrition.csv', format=\"csv\", header=True, inferSchema=True)"
      ],
      "execution_count": 0,
      "outputs": []
    },
    {
      "cell_type": "code",
      "metadata": {
        "id": "AFshy0RK1LyW",
        "colab_type": "code",
        "outputId": "12360a1d-baf9-4cfe-cba3-db11c855c096",
        "colab": {
          "base_uri": "https://localhost:8080/",
          "height": 316
        }
      },
      "source": [
        "data.show(10, False)"
      ],
      "execution_count": 0,
      "outputs": [
        {
          "output_type": "stream",
          "text": [
            "+-------+---+---------+--------------+--------------+-----------+-------+-------+----+------+-------------+----------+-------+-----------------+---------+\n",
            "|uid    |age|age_group|profession    |marital_status|education  |default|housing|loan|gender|balance      |membership|charges|customer_contacts|attrition|\n",
            "+-------+---+---------+--------------+--------------+-----------+-------+-------+----+------+-------------+----------+-------+-----------------+---------+\n",
            "|1000001|69 |60s      |retired       |married       |high school|no     |no     |no  |female|$50k - $100k |gold      |74     |5                |0        |\n",
            "|1000002|46 |40s      |management    |married       |high school|yes    |no     |no  |male  |$10k - $50k  |silver    |149    |1                |0        |\n",
            "|1000003|45 |40s      |management    |married       |high school|no     |no     |no  |female|$100k - $250k|platinum  |58     |5                |1        |\n",
            "|1000004|54 |50s      |administration|divorced      |graduate   |no     |yes    |no  |female|$10k - $50k  |silver    |317    |4                |1        |\n",
            "|1000005|36 |30s      |management    |single        |high school|no     |yes    |no  |male  |$50k - $100k |gold      |139    |8                |0        |\n",
            "|1000006|25 |20s      |student       |married       |graduate   |no     |no     |no  |male  |Over $250k   |platinum  |21     |8                |0        |\n",
            "|1000007|54 |50s      |management    |single        |high school|no     |yes    |yes |female|Over $250k   |platinum  |128    |0                |0        |\n",
            "|1000008|49 |40s      |manufacturing |single        |graduate   |no     |yes    |yes |male  |$50k - $100k |gold      |40     |0                |0        |\n",
            "|1000009|30 |30s      |entrepreneur  |married       |graduate   |no     |no     |yes |male  |$100k - $250k|platinum  |126    |0                |0        |\n",
            "|1000010|43 |40s      |technician    |married       |high school|no     |no     |no  |female|$100k - $250k|platinum  |102    |1                |0        |\n",
            "+-------+---+---------+--------------+--------------+-----------+-------+-------+----+------+-------------+----------+-------+-----------------+---------+\n",
            "only showing top 10 rows\n",
            "\n"
          ],
          "name": "stdout"
        }
      ]
    },
    {
      "cell_type": "code",
      "metadata": {
        "id": "9HRSqDO_C5mA",
        "colab_type": "code",
        "colab": {}
      },
      "source": [
        "columns_to_drop = ['age', 'uid']\n",
        "data = data.drop(*columns_to_drop)"
      ],
      "execution_count": 0,
      "outputs": []
    },
    {
      "cell_type": "markdown",
      "metadata": {
        "id": "8vmjRU9T6lDp",
        "colab_type": "text"
      },
      "source": [
        "# Data Exploration"
      ]
    },
    {
      "cell_type": "code",
      "metadata": {
        "id": "zIudyY5zg-QP",
        "colab_type": "code",
        "outputId": "8c75d991-3f98-4c1e-f045-db3b5987e727",
        "colab": {
          "base_uri": "https://localhost:8080/",
          "height": 54
        }
      },
      "source": [
        "data = data.where(col(\"attrition\").isNotNull())\n",
        "data.groupby('attrition').agg({'attrition': 'count'}).collect()"
      ],
      "execution_count": 0,
      "outputs": [
        {
          "output_type": "execute_result",
          "data": {
            "text/plain": [
              "[Row(attrition=1, count(attrition)=10200),\n",
              " Row(attrition=0, count(attrition)=35011)]"
            ]
          },
          "metadata": {
            "tags": []
          },
          "execution_count": 35
        }
      ]
    },
    {
      "cell_type": "code",
      "metadata": {
        "id": "apnPGbgS7Whj",
        "colab_type": "code",
        "outputId": "a9960ee0-aa9c-431a-f919-12ecb5570b15",
        "colab": {
          "base_uri": "https://localhost:8080/",
          "height": 54
        }
      },
      "source": [
        "data.groupBy('attrition').agg({'charges': 'mean'}).collect()"
      ],
      "execution_count": 0,
      "outputs": [
        {
          "output_type": "execute_result",
          "data": {
            "text/plain": [
              "[Row(attrition=1, avg(charges)=239.645),\n",
              " Row(attrition=0, avg(charges)=90.01216760446717)]"
            ]
          },
          "metadata": {
            "tags": []
          },
          "execution_count": 36
        }
      ]
    },
    {
      "cell_type": "code",
      "metadata": {
        "id": "l8hQv8747oT9",
        "colab_type": "code",
        "outputId": "9ca4b591-9b65-4cce-b819-e11b2475cd3b",
        "colab": {
          "base_uri": "https://localhost:8080/",
          "height": 54
        }
      },
      "source": [
        "data.groupBy('attrition').agg({'customer_contacts': 'mean'}).collect()"
      ],
      "execution_count": 0,
      "outputs": [
        {
          "output_type": "execute_result",
          "data": {
            "text/plain": [
              "[Row(attrition=1, avg(customer_contacts)=2.981764705882353),\n",
              " Row(attrition=0, avg(customer_contacts)=1.6424266659050013)]"
            ]
          },
          "metadata": {
            "tags": []
          },
          "execution_count": 37
        }
      ]
    },
    {
      "cell_type": "code",
      "metadata": {
        "id": "lYjBW01c8FT1",
        "colab_type": "code",
        "outputId": "7295e0f9-5366-4ac4-f264-75de65d77e14",
        "colab": {
          "base_uri": "https://localhost:8080/",
          "height": 167
        }
      },
      "source": [
        "data.groupBy(['attrition', 'education']).count().collect()"
      ],
      "execution_count": 0,
      "outputs": [
        {
          "output_type": "execute_result",
          "data": {
            "text/plain": [
              "[Row(attrition=1, education='unknown', count=281),\n",
              " Row(attrition=0, education='high school', count=9873),\n",
              " Row(attrition=1, education='graduate', count=5949),\n",
              " Row(attrition=1, education='college', count=1413),\n",
              " Row(attrition=0, education='unknown', count=1061),\n",
              " Row(attrition=0, education='graduate', count=20559),\n",
              " Row(attrition=1, education='high school', count=2557),\n",
              " Row(attrition=0, education='college', count=3518)]"
            ]
          },
          "metadata": {
            "tags": []
          },
          "execution_count": 38
        }
      ]
    },
    {
      "cell_type": "markdown",
      "metadata": {
        "id": "2MUc2b7h6rT5",
        "colab_type": "text"
      },
      "source": [
        "# Preprocessing and Feature Engineering"
      ]
    },
    {
      "cell_type": "code",
      "metadata": {
        "id": "lYb3wfqHDs_p",
        "colab_type": "code",
        "colab": {}
      },
      "source": [
        "data = data.withColumn('defaultBinary', when(col('default') == 'yes', 1).otherwise(0))\n",
        "data = data.withColumn('housingBinary', when(col('housing') == 'yes', 1).otherwise(0))\n",
        "data = data.withColumn('loanBinary', when(col('loan') == 'yes', 1).otherwise(0))\n",
        "data = data.withColumn('genderBinary', when(col('gender') == 'female', 1).otherwise(0))\n",
        "\n",
        "columns_to_drop = ['default', 'housing', 'loan', 'gender']\n",
        "data = data.drop(*columns_to_drop)"
      ],
      "execution_count": 0,
      "outputs": []
    },
    {
      "cell_type": "code",
      "metadata": {
        "id": "Sq5qLHWcFpxR",
        "colab_type": "code",
        "colab": {}
      },
      "source": [
        "oldColumns = [name for name in data.schema.names if name.endswith('Binary')]\n",
        "renameColumns = columns_to_drop\n",
        "\n",
        "data = reduce(lambda data, idx: data.withColumnRenamed(oldColumns[idx], renameColumns[idx]), range(len(oldColumns)), data)"
      ],
      "execution_count": 0,
      "outputs": []
    },
    {
      "cell_type": "code",
      "metadata": {
        "id": "dTuEZ5ss8lPl",
        "colab_type": "code",
        "colab": {}
      },
      "source": [
        "train, test   = data.randomSplit([0.8, 0.2], seed=12345)"
      ],
      "execution_count": 0,
      "outputs": []
    },
    {
      "cell_type": "code",
      "metadata": {
        "id": "-p9quTlL_MzP",
        "colab_type": "code",
        "colab": {}
      },
      "source": [
        "inputOneHot=['age_group', 'profession', 'marital_status', 'education', 'balance', 'membership']\n",
        "outputOneHot=['cat_' + vec for vec in inputOneHot]\n",
        "\n",
        "si1 = StringIndexer(inputCol=\"age_group\", outputCol=\"age_group_index\")\n",
        "si2 = StringIndexer(inputCol=\"profession\", outputCol=\"profession_index\")\n",
        "si3 = StringIndexer(inputCol=\"marital_status\", outputCol=\"marital_status_index\")\n",
        "si4 = StringIndexer(inputCol=\"education\", outputCol=\"education_index\")\n",
        "si5 = StringIndexer(inputCol=\"balance\", outputCol=\"balance_index\")\n",
        "si6 = StringIndexer(inputCol=\"membership\", outputCol=\"membership_index\")\n",
        "\n",
        "indexers = [si1, si2, si3, si4, si5, si6]\n",
        "\n",
        "inputs = [indexer.getOutputCol() for indexer in indexers]\n",
        "encoder = OneHotEncoderEstimator(inputCols=inputs, outputCols=outputOneHot)"
      ],
      "execution_count": 0,
      "outputs": []
    },
    {
      "cell_type": "code",
      "metadata": {
        "id": "QoDyDG4KcxXt",
        "colab_type": "code",
        "colab": {}
      },
      "source": [
        "indices = [s + \"_index\" for s in inputOneHot]\n",
        "features = ['charges', 'customer_contacts', 'default', 'housing', 'loan', 'gender', *indices]\n",
        "target = 'attrition'\n",
        "tgt = StringIndexer(inputCol='attrition', outputCol='label').fit(train)\n",
        "\n",
        "va  = VectorAssembler(inputCols=features, outputCol=\"features\")"
      ],
      "execution_count": 0,
      "outputs": []
    },
    {
      "cell_type": "code",
      "metadata": {
        "id": "QoknxbsdNdjo",
        "colab_type": "code",
        "colab": {}
      },
      "source": [
        "clf = RandomForestClassifier(featuresCol=\"features\", labelCol=target, predictionCol=\"prediction\", maxDepth=5, maxBins=350, seed=12345)\n",
        "# clf = MultilayerPerceptronClassifier(featuresCol=\"features\", labelCol=target, predictionCol=\"prediction\", layers=[len(features), len(features)+1, len(features), 2], seed=12345)\n",
        "\n",
        "labelConverter = IndexToString(inputCol=\"prediction\", outputCol=\"predictedLabel\", labels=tgt.labels)"
      ],
      "execution_count": 0,
      "outputs": []
    },
    {
      "cell_type": "markdown",
      "metadata": {
        "id": "xjKpDkHA65kj",
        "colab_type": "text"
      },
      "source": [
        "# Fit and Train a Model"
      ]
    },
    {
      "cell_type": "code",
      "metadata": {
        "id": "grwtDHLcm5F2",
        "colab_type": "code",
        "colab": {}
      },
      "source": [
        "pipeline_run  = Pipeline(stages=[*indexers, va, tgt, clf, labelConverter])\n",
        "\n",
        "model_run = pipeline_run.fit(train)"
      ],
      "execution_count": 0,
      "outputs": []
    },
    {
      "cell_type": "code",
      "metadata": {
        "id": "cfDw76_Uplnd",
        "colab_type": "code",
        "outputId": "35e592f0-655a-433d-83d0-49d08a308fd1",
        "colab": {
          "base_uri": "https://localhost:8080/",
          "height": 205
        }
      },
      "source": [
        "predictions = model_run.transform(test)\n",
        "\n",
        "predictions.show(3)"
      ],
      "execution_count": 0,
      "outputs": [
        {
          "output_type": "stream",
          "text": [
            "+---------+--------------+--------------+---------+-----------+----------+-------+-----------------+---------+-------+-------+----+------+---------------+----------------+--------------------+---------------+-------------+----------------+--------------------+-----+--------------------+--------------------+----------+--------------+\n",
            "|age_group|    profession|marital_status|education|    balance|membership|charges|customer_contacts|attrition|default|housing|loan|gender|age_group_index|profession_index|marital_status_index|education_index|balance_index|membership_index|            features|label|       rawPrediction|         probability|prediction|predictedLabel|\n",
            "+---------+--------------+--------------+---------+-----------+----------+-------+-----------------+---------+-------+-------+----+------+---------------+----------------+--------------------+---------------+-------------+----------------+--------------------+-----+--------------------+--------------------+----------+--------------+\n",
            "|      20s|administration|      divorced|  college|$10k - $50k|    silver|    203|                3|        1|      0|      0|   1|     1|            3.0|             3.0|                 2.0|            2.0|          1.0|             1.0|[203.0,3.0,0.0,0....|  1.0|[0.24043337954168...|[0.01202166897708...|       1.0|             1|\n",
            "|      20s|administration|      divorced|  college|$10k - $50k|    silver|    205|                3|        1|      0|      1|   0|     1|            3.0|             3.0|                 2.0|            2.0|          1.0|             1.0|[205.0,3.0,0.0,1....|  1.0|[0.17901331670559...|[0.00895066583527...|       1.0|             1|\n",
            "|      20s|administration|      divorced|  college|$10k - $50k|    silver|    206|                3|        1|      0|      1|   0|     1|            3.0|             3.0|                 2.0|            2.0|          1.0|             1.0|[206.0,3.0,0.0,1....|  1.0|[0.17901331670559...|[0.00895066583527...|       1.0|             1|\n",
            "+---------+--------------+--------------+---------+-----------+----------+-------+-----------------+---------+-------+-------+----+------+---------------+----------------+--------------------+---------------+-------------+----------------+--------------------+-----+--------------------+--------------------+----------+--------------+\n",
            "only showing top 3 rows\n",
            "\n"
          ],
          "name": "stdout"
        }
      ]
    },
    {
      "cell_type": "markdown",
      "metadata": {
        "id": "XSx_Bu2U7AOH",
        "colab_type": "text"
      },
      "source": [
        "# Model Evaluation"
      ]
    },
    {
      "cell_type": "code",
      "metadata": {
        "id": "fgeE0hrN1VwY",
        "colab_type": "code",
        "outputId": "0aed42a2-1b98-4724-be69-40edcc27b366",
        "colab": {
          "base_uri": "https://localhost:8080/",
          "height": 36
        }
      },
      "source": [
        "evaluator = BinaryClassificationEvaluator(metricName='areaUnderROC', rawPredictionCol='rawPrediction', labelCol='label')\n",
        "\n",
        "auc = evaluator.evaluate(predictions)\n",
        "\n",
        "print(auc)\n",
        "#auc with random forest: 0.928\n",
        "#auc with MLP: 0.879\n",
        "#Random forest performs better with minimal tuning"
      ],
      "execution_count": 0,
      "outputs": [
        {
          "output_type": "stream",
          "text": [
            "0.9279628661476019\n"
          ],
          "name": "stdout"
        }
      ]
    },
    {
      "cell_type": "code",
      "metadata": {
        "id": "u6QuVfbl3bDR",
        "colab_type": "code",
        "colab": {}
      },
      "source": [
        ""
      ],
      "execution_count": 0,
      "outputs": []
    }
  ]
}